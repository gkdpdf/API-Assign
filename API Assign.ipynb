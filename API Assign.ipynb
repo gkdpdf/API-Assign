{
 "cells": [
  {
   "cell_type": "markdown",
   "id": "ef5c1bd8-e3f8-41db-9db1-c83de53a5ddb",
   "metadata": {},
   "source": [
    "1. \n",
    "API : API stands for Application Programming Interface. In the context of APIs, the word Application refers to any software with a distinct function. Interface can be thought of as a contract of service between two applications. This contract defines how the two communicate with each other using requests and responses.\n",
    "In banks there is a transaction of UPI transfer is an example of API\n"
   ]
  },
  {
   "cell_type": "markdown",
   "id": "3c0211a9-c6c0-4f04-bbc7-259325a8afee",
   "metadata": {},
   "source": [
    "2. \n",
    "Advantages--\n",
    "\n",
    "Increased Interoperability\n",
    "Improved Efficiencye written from scratch.\n",
    "Better User Experience.\n",
    "Increased Flexibility.\n",
    "New Revenue Streams.\n",
    "\n",
    "Disadvantages--\n",
    "\n",
    "Security Concerns: \n",
    "Complexity: APIs can be complex, requiring a significant amount of development effort to implement and maintain.\n",
    "Compatibility Issues: APIs can have compatibility issues between different versions of the same software system or between different systems, which can lead to errors and system failures.\n",
    "Dependency on Third-Party Developers: APIs rely on third-party developers to create applications that integrate with the software system. This can create dependencies that are outside of the control of the company that owns the software system.\n",
    "Governance and Management: APIs require proper governance and management to ensure they are being used correctly and consistently across different applications and systems."
   ]
  },
  {
   "cell_type": "markdown",
   "id": "343a1177-f2f0-4e76-9a2e-d0b61abc13b9",
   "metadata": {},
   "source": [
    "3. \n",
    "Web API : \n",
    "    Web API is an application programming interface for the Web. A Browser API can extend the functionality of a web browser. A Server API can extend the functionality of a web server.\n",
    "api is may be our local api to work in local systems to do some OS work while Web api is all about extension of web browser to do work using HTTP protocol"
   ]
  },
  {
   "cell_type": "markdown",
   "id": "a8729897-828d-451c-8b27-cf96aabdf2e8",
   "metadata": {},
   "source": [
    "4. \n",
    "The SOAP approach is highly structured and uses XML data format. REST is more flexible and allows applications to exchange data in multiple formats.\n",
    "\n",
    "Disadvantages -- \n",
    " Less performant: SOAP messages can be quite large due to their verbose XML-based structure, which can lead to greater bandwidth usage and slower performance. Complex: SOAP can introduce complexity into a system due to its strongly typed and extensible nature."
   ]
  },
  {
   "cell_type": "markdown",
   "id": "29879e46-49c7-4910-848e-6f5c1844a961",
   "metadata": {},
   "source": [
    "5. \n",
    "\n",
    "SOAP stands for Simple Object Access Protocol and REST stands for Representational State Transfer.\n",
    "SOAP uses only XML for exchanging information in its message format whereas REST is not restricted to XML and its the choice of implementer which Media-Type to use like XML, JSON, Plain-text. Moreover, REST can use SOAP protocol but SOAP cannot use REST."
   ]
  },
  {
   "cell_type": "code",
   "execution_count": null,
   "id": "cb9aa598-33dc-44f3-92cf-f2139684ecfc",
   "metadata": {},
   "outputs": [],
   "source": []
  }
 ],
 "metadata": {
  "kernelspec": {
   "display_name": "Python 3 (ipykernel)",
   "language": "python",
   "name": "python3"
  },
  "language_info": {
   "codemirror_mode": {
    "name": "ipython",
    "version": 3
   },
   "file_extension": ".py",
   "mimetype": "text/x-python",
   "name": "python",
   "nbconvert_exporter": "python",
   "pygments_lexer": "ipython3",
   "version": "3.10.8"
  }
 },
 "nbformat": 4,
 "nbformat_minor": 5
}
